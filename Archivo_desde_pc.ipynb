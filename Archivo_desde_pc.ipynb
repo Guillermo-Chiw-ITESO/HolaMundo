{
 "cells": [
  {
   "cell_type": "markdown",
   "id": "60ef560a",
   "metadata": {},
   "source": [
    "# Estos son los cambios que hice desde mi máquina"
   ]
  },
  {
   "cell_type": "code",
   "execution_count": 3,
   "id": "a17a4280",
   "metadata": {},
   "outputs": [
    {
     "data": {
      "text/plain": [
       "array([0.63292225, 0.54918213, 0.53948443, 0.61006699, 0.35695612,\n",
       "       0.51539483, 0.40484678, 0.05402508, 0.41867638, 0.26681656])"
      ]
     },
     "execution_count": 3,
     "metadata": {},
     "output_type": "execute_result"
    }
   ],
   "source": [
    "import numpy as np\n",
    "\n",
    "np.random.rand(10)"
   ]
  },
  {
   "cell_type": "code",
   "execution_count": null,
   "id": "6d3b3b95",
   "metadata": {},
   "outputs": [],
   "source": []
  }
 ],
 "metadata": {
  "kernelspec": {
   "display_name": "Python 3 (ipykernel)",
   "language": "python",
   "name": "python3"
  },
  "language_info": {
   "codemirror_mode": {
    "name": "ipython",
    "version": 3
   },
   "file_extension": ".py",
   "mimetype": "text/x-python",
   "name": "python",
   "nbconvert_exporter": "python",
   "pygments_lexer": "ipython3",
   "version": "3.11.4"
  }
 },
 "nbformat": 4,
 "nbformat_minor": 5
}
